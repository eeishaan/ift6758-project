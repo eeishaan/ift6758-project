{
 "cells": [
  {
   "cell_type": "code",
   "execution_count": null,
   "metadata": {
    "collapsed": true,
    "pycharm": {
     "is_executing": false
    }
   },
   "outputs": [],
   "source": [
    "import sys\n",
    "sys.path.append(\"/home/mila/teaching/user17/philippe_lelievre\")\n",
    "\n",
    "\n",
    "from utils.data_processing import parse_input\n",
    "input_path = \"/home/mila/teaching/user17/new_data/Train\"\n",
    "X, y = parse_input(input_path, is_train=True, map_age_to_group=True)\n",
    "print(\"Data loaded\")\n",
    "\n",
    "\n"
   ]
  },
  {
   "cell_type": "code",
   "execution_count": null,
   "outputs": [],
   "source": [
    "import networkx as nx\n",
    "from node2vec import Node2Vec\n",
    "import itertools\n",
    "import pandas as pd\n",
    "relational_data = X[\"relation\"]\n",
    "relational_data=relational_data.drop(columns=[relational_data.columns[0]])"
   ],
   "metadata": {
    "collapsed": false,
    "pycharm": {
     "name": "#%%\n",
     "is_executing": false
    }
   }
  },
  {
   "cell_type": "code",
   "execution_count": null,
   "outputs": [],
   "source": [
    "i = relational_data.userid\n",
    "categories = list(set(relational_data[\"like_id\"]))\n",
    "j = pd.Categorical(relational_data.like_id, categories=categories)\n",
    "\n",
    "test=pd.crosstab(i, j).astype(bool)\n",
    "\n",
    "\n",
    "# print(relational_data.columns)\n",
    "# test = relational_data.pivot(index='userid', columns='like_id')\n",
    "print(test[0:10])\n",
    "# grouped_data=relational_data.groupby(['userid'])\n",
    "# \n",
    "# like_relations = []\n",
    "# total_user = len(grouped_data)\n",
    "# i =0\n",
    "# for key , graph in grouped_data:\n",
    "#     for pair in itertools.combinations(graph[\"like_id\"],r=2):\n",
    "#         like_relations.append(pair)\n",
    "#     print(f\"{i}/{total_user}\")\n",
    "#     i+=1\n",
    "# like_relations_df = pd.DataFrame(like_relations, columns=['like_1', 'like_2'])\n",
    "# print(f\"before removing dup length : {len(like_relations_df)}\")\n",
    "# like_relations_df=like_relations_df.drop_duplicates()\n",
    "# print(f\"after removing dup length : {len(like_relations_df)}\")"
   ],
   "metadata": {
    "collapsed": false,
    "pycharm": {
     "name": "#%%\n",
     "is_executing": false
    }
   }
  },
  {
   "cell_type": "code",
   "execution_count": null,
   "outputs": [],
   "source": [
    "print(\"Started graph loading\")\n",
    "graph=nx.from_pandas_edgelist(relational_data, source=\"userid\",target=\"like_id\")\n",
    "print(\"Graph loading ended\")\n",
    "print(\"Started embedding graph...\")\n",
    "node2vec = Node2Vec(graph,workers=1,dimensions=10,walk_length=5,num_walks=5)\n",
    "print(\"end creating\")"
   ],
   "metadata": {
    "collapsed": false,
    "pycharm": {
     "name": "#%%\n",
     "is_executing": false
    }
   }
  },
  {
   "cell_type": "code",
   "execution_count": null,
   "outputs": [],
   "source": [
    "\n",
    "print(\"Ended embedding graph...\")\n",
    "print(\"Training started\")\n",
    "model = node2vec.fit(window=5, min_count=10, batch_words=2)\n",
    "print(\"Training ended\")\n"
   ],
   "metadata": {
    "collapsed": false,
    "pycharm": {
     "name": "#%%\n",
     "is_executing": false
    }
   }
  },
  {
   "cell_type": "code",
   "execution_count": null,
   "outputs": [],
   "source": [
    "EMBEDDING_FILENAME = '/home/mila/teaching/user17/philippe_lelievre/embeddingsembeddings.emb'\n",
    "EMBEDDING_MODEL_FILENAME = '/home/mila/teaching/user17/philippe_lelievre/embeddings/embeddings.model'\n",
    "\n",
    "# Save embeddings for later use\n",
    "model.wv.save_word2vec_format(EMBEDDING_FILENAME)\n",
    "\n",
    "# Save model for later use\n",
    "model.save(EMBEDDING_MODEL_FILENAME)\n",
    "\n",
    "print(\"model saved\")"
   ],
   "metadata": {
    "collapsed": false,
    "pycharm": {
     "name": "#%%\n",
     "is_executing": false
    }
   }
  },
  {
   "cell_type": "code",
   "execution_count": null,
   "outputs": [],
   "source": [
    "# for data in grouped_data:\n",
    "#     print(data)\n",
    "#     break\n",
    "#     \n",
    "# Embed edges using Hadamard method\n",
    "from node2vec.edges import HadamardEmbedder\n",
    "\n",
    "edges_embs = HadamardEmbedder(keyed_vectors=model.wv)\n",
    "model.wv[\"c6a9a43058c8cc8398ca6e97324c0fae\"] \n",
    "user_graph = next(iter(grouped_data))\n",
    "# model.wv.most_similar(\"c6a9a43058c8cc8398ca6e97324c0fae\")\n",
    "# print(user_graph)\n",
    "# model\n",
    "# # model.wv.most_similar()\n",
    "print(edges_embs[(\"c6a9a43058c8cc8398ca6e97324c0fae\",\"8628204013\")])\n",
    "\n",
    "# print(edges_embs.kv.accuracy)\n",
    "# relational_data[0:10]"
   ],
   "metadata": {
    "collapsed": false,
    "pycharm": {
     "name": "#%%\n",
     "is_executing": false
    }
   }
  }
 ],
 "metadata": {
  "kernelspec": {
   "name": "python3",
   "language": "python",
   "display_name": "Python 3"
  },
  "language_info": {
   "codemirror_mode": {
    "name": "ipython",
    "version": 2
   },
   "file_extension": ".py",
   "mimetype": "text/x-python",
   "name": "python",
   "nbconvert_exporter": "python",
   "pygments_lexer": "ipython2",
   "version": "2.7.6"
  },
  "pycharm": {
   "stem_cell": {
    "cell_type": "raw",
    "source": [],
    "metadata": {
     "collapsed": false
    }
   }
  }
 },
 "nbformat": 4,
 "nbformat_minor": 0
}