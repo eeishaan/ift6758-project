{
 "cells": [
  {
   "cell_type": "code",
   "execution_count": 32,
   "metadata": {},
   "outputs": [
    {
     "name": "stdout",
     "output_type": "stream",
     "text": [
      "The autoreload extension is already loaded. To reload it, use:\n",
      "  %reload_ext autoreload\n"
     ]
    }
   ],
   "source": [
    "%load_ext autoreload\n",
    "%autoreload 2\n",
    "\n",
    "import numpy as np\n",
    "import pandas as pd\n",
    "import sys\n",
    "sys.path.append(\"../\")\n",
    "from utils.data_processing import parse_input\n"
   ]
  },
  {
   "cell_type": "code",
   "execution_count": 52,
   "metadata": {},
   "outputs": [],
   "source": [
    "input_path = \"../../new_data/Train/\"\n",
    "X_all, y_all = parse_input(input_path, age_to_group=True)"
   ]
  },
  {
   "cell_type": "code",
   "execution_count": 55,
   "metadata": {},
   "outputs": [],
   "source": [
    "from sklearn.model_selection import KFold\n",
    "import math\n",
    "from utils.scoring import age_score\n",
    "\n",
    "def k_fold_age(X, y, model, age_to_group=True, n_splits=5):\n",
    "    kf = KFold(n_splits=n_splits)\n",
    "    kf.get_n_splits(X)\n",
    "    k_results = {\"train\": [], \"test\": []}\n",
    "    for train_index, test_index in kf.split(X['user_id']):\n",
    "        X_train = {}\n",
    "        X_test = {}\n",
    "        train_user_ids = X['user_id'][train_index]\n",
    "        test_user_ids = X['user_id'][test_index]\n",
    "        for key, value in X.items():\n",
    "            if key == \"user_id\":\n",
    "                X_train[key], X_test[key] = train_user_ids, test_user_ids\n",
    "            else:\n",
    "                X_train[key], X_test[key] = X[key].loc[train_user_ids], X[key].loc[test_user_ids]\n",
    "        y_train, y_test = y.loc[train_user_ids], y.loc[test_user_ids]\n",
    "        model.fit(X_train, y_train)\n",
    "        \n",
    "        y_pred_train = model.predict(X_train)\n",
    "        # print(f\"y_pred_train.shape = {y_pred_train.shape}, y_train.shape = {y_train.shape}\")\n",
    "        train_score = age_score(y_pred_train, y_train, age_to_group)\n",
    "        k_results['train'].append(train_score)\n",
    "\n",
    "        y_pred_test = model.predict(X_test)\n",
    "        test_score = age_score(y_pred_test, y_test, age_to_group)\n",
    "        k_results['test'].append(test_score)\n",
    "        print(f\"train_acc = {train_score}, test_acc = {test_score}\")\n",
    "\n",
    "    for key, result in k_results.items():\n",
    "        print(\n",
    "            # f\"{key} : {np.mean(result)} +- {1.96 * np.std(result) / math.sqrt(len(result))}\")\n",
    "            f\"{key} : {np.mean(result)} +- {1.96 * np.std(result)}\")\n",
    "    return k_results\n"
   ]
  },
  {
   "cell_type": "code",
   "execution_count": 57,
   "metadata": {},
   "outputs": [
    {
     "name": "stdout",
     "output_type": "stream",
     "text": [
      "fit train: X_train.shape = (7600, 64), y_train.shape = (7600,)\n",
      "[0.91509941 0.9132948  0.87419355 0.9528922 ]\n",
      "[0.45740741 0.33888889 0.13333333 0.8479638 ]\n",
      "train_acc = 0.935921052631579, test_acc = 0.6605263157894737\n",
      "fit train: X_train.shape = (7600, 64), y_train.shape = (7600,)\n",
      "[0.91217257 0.91272727 0.87658228 0.94525709]\n",
      "[0.47577093 0.33636364 0.13043478 0.86257563]\n",
      "train_acc = 0.9303947368421053, test_acc = 0.6826315789473684\n",
      "fit train: X_train.shape = (7600, 64), y_train.shape = (7600,)\n",
      "[0.91498186 0.90279465 0.8585209  0.94666079]\n",
      "[0.43432203 0.31981982 0.12162162 0.87985866]\n",
      "train_acc = 0.9302631578947368, test_acc = 0.6742105263157895\n",
      "fit train: X_train.shape = (7600, 64), y_train.shape = (7600,)\n",
      "[0.91852621 0.90322581 0.85521886 0.94910773]\n",
      "[0.47257384 0.33653846 0.11363636 0.86106195]\n",
      "train_acc = 0.9326315789473684, test_acc = 0.6721052631578948\n",
      "fit train: X_train.shape = (7600, 64), y_train.shape = (7600,)\n",
      "[0.90876289 0.89759036 0.86928105 0.9520336 ]\n",
      "[0.45119306 0.35813953 0.10126582 0.87772926]\n",
      "train_acc = 0.9317105263157894, test_acc = 0.6831578947368421\n",
      "train : 0.9321842105263158 +- 0.004043605258961988\n",
      "test : 0.6745263157894736 +- 0.01621384846341107\n",
      "{'train': [0.935921052631579, 0.9303947368421053, 0.9302631578947368, 0.9326315789473684, 0.9317105263157894], 'test': [0.6605263157894737, 0.6826315789473684, 0.6742105263157895, 0.6721052631578948, 0.6831578947368421]}\n"
     ]
    }
   ],
   "source": [
    "from models.age_estimator import AgeEstimator\n",
    "\n",
    "agemodel_1 = AgeEstimator(n_estimators=100, minimum_like_counts=2)\n",
    "kf_results = k_fold_age(X_all, y_all['age'], agemodel_1)\n",
    "print(kf_results)"
   ]
  },
  {
   "cell_type": "code",
   "execution_count": 63,
   "metadata": {},
   "outputs": [
    {
     "name": "stdout",
     "output_type": "stream",
     "text": [
      "fit train: X_train.shape = (7600, 64), y_train.shape = (7600,)\n",
      "[0.79365932 0.79421965 0.81290323 0.93076249]\n",
      "[0.46481481 0.38333333 0.08       0.86425339]\n",
      "train_acc = 0.8768421052631579, test_acc = 0.6742105263157895\n",
      "fit train: X_train.shape = (7600, 64), y_train.shape = (7600,)\n",
      "[0.78582435 0.80242424 0.80063291 0.92220745]\n",
      "[0.47797357 0.37727273 0.11594203 0.86689715]\n",
      "train_acc = 0.8692105263157894, test_acc = 0.69\n",
      "fit train: X_train.shape = (7600, 64), y_train.shape = (7600,)\n",
      "[0.77656817 0.79829891 0.81672026 0.9292484 ]\n",
      "[0.47457627 0.35135135 0.24324324 0.87632509]\n",
      "train_acc = 0.8717105263157895, test_acc = 0.6905263157894737\n",
      "fit train: X_train.shape = (7600, 64), y_train.shape = (7600,)\n",
      "[0.79605605 0.80525687 0.76430976 0.93192333]\n",
      "[0.47679325 0.375      0.10227273 0.87433628]\n",
      "train_acc = 0.8769736842105263, test_acc = 0.6847368421052632\n",
      "fit train: X_train.shape = (7600, 64), y_train.shape = (7600,)\n",
      "[0.7871134  0.80120482 0.79411765 0.92484527]\n",
      "[0.5010846  0.34883721 0.2278481  0.86899563]\n",
      "train_acc = 0.8709210526315789, test_acc = 0.6942105263157895\n",
      "train : 0.8731315789473685 +- 0.006248082165586713\n",
      "test : 0.6867368421052632 +- 0.0136293403567288\n",
      "fit train: X_train.shape = (7600, 64), y_train.shape = (7600,)\n",
      "[0.76786674 0.76763006 0.73870968 0.9239702 ]\n",
      "[0.47407407 0.40555556 0.08       0.85339367]\n",
      "train_acc = 0.8603947368421052, test_acc = 0.6726315789473685\n",
      "fit train: X_train.shape = (7600, 64), y_train.shape = (7600,)\n",
      "[0.75603493 0.79151515 0.76898734 0.91999113]\n",
      "[0.48898678 0.35       0.08695652 0.86343993]\n",
      "train_acc = 0.8577631578947369, test_acc = 0.6863157894736842\n",
      "fit train: X_train.shape = (7600, 64), y_train.shape = (7600,)\n",
      "[0.74650078 0.7654921  0.77491961 0.92638307]\n",
      "[0.45127119 0.36036036 0.28378378 0.88780919]\n",
      "train_acc = 0.8571052631578947, test_acc = 0.6942105263157895\n",
      "fit train: X_train.shape = (7600, 64), y_train.shape = (7600,)\n",
      "[0.76076803 0.78972521 0.74747475 0.92729676]\n",
      "[0.4556962  0.37019231 0.09090909 0.87256637]\n",
      "train_acc = 0.8628947368421053, test_acc = 0.6773684210526316\n",
      "fit train: X_train.shape = (7600, 64), y_train.shape = (7600,)\n",
      "[0.76340206 0.77228916 0.75816993 0.92351901]\n",
      "[0.5032538  0.39534884 0.21518987 0.86812227]\n",
      "train_acc = 0.8594736842105263, test_acc = 0.6989473684210527\n",
      "train : 0.8595263157894737 +- 0.0040238191089568874\n",
      "test : 0.6858947368421053 +- 0.019369525826615414\n"
     ]
    }
   ],
   "source": [
    "# models_vary_estimators = [AgeEstimator(n_estimators=10), \n",
    "#                           AgeEstimator(n_estimators=100), \n",
    "#                           AgeEstimator(n_estimators=200),\n",
    "#                           AgeEstimator(n_estimators=500),\n",
    "#                           AgeEstimator(n_estimators=1000),\n",
    "#                           AgeEstimator(n_estimators=1500)]\n",
    "\n",
    "models_vary_estimators = [AgeEstimator(minimum_like_counts=1)\n",
    "                          ,AgeEstimator(minimum_like_counts=2)\n",
    "                          ,AgeEstimator(minimum_like_counts=3)\n",
    "                          ,AgeEstimator(minimum_like_counts=4)\n",
    "                          ,AgeEstimator(minimum_like_counts=5)\n",
    "                          ,AgeEstimator(minimum_like_counts=6)\n",
    "                          ]\n",
    "\n",
    "\n",
    "results_vary_estimators = []\n",
    "\n",
    "for model in models_vary_estimators:\n",
    "    results_vary_estimators.append(k_fold_age(X_all, y_all['age'], model))"
   ]
  },
  {
   "cell_type": "code",
   "execution_count": 64,
   "metadata": {},
   "outputs": [
    {
     "data": {
      "text/plain": [
       "<matplotlib.legend.Legend at 0x7f0a81d80cc0>"
      ]
     },
     "execution_count": 64,
     "metadata": {},
     "output_type": "execute_result"
    },
    {
     "data": {
      "image/png": "[encoded data removed]",
      "text/plain": [
       "<Figure size 432x288 with 1 Axes>"
      ]
     },
     "metadata": {
      "needs_background": "light"
     },
     "output_type": "display_data"
    }
   ],
   "source": [
    "from matplotlib import pyplot as plt\n",
    "# results_vary_estimators\n",
    "train_means = np.array([np.mean(res['train']) for res in results_vary_estimators])\n",
    "train_std = np.array([np.std(res['train'])*1.96 for res in results_vary_estimators])\n",
    "test_means = np.array([np.mean(res['test']) for res in results_vary_estimators])\n",
    "test_std = np.array([np.std(res['test'])*1.96 for res in results_vary_estimators])\n",
    "# n_estimators = [10, 100, 200, 500, 1000, 1500]\n",
    "n_estimators = [1, 2, 3, 4, 5, 6]\n",
    "plt.plot(n_estimators, train_means, label=\"train\", color='r')\n",
    "plt.fill_between(n_estimators, train_means-train_std, train_means+train_std, color='r', alpha=0.2)\n",
    "plt.plot(n_estimators, test_means, label='cross-validation', color='g')\n",
    "plt.fill_between(n_estimators, test_means-test_std, test_means+test_std, color='g', alpha=0.2)\n",
    "# plt.hlines(y=.594, xmin=10, xmax=1500, label=\"baseline\")\n",
    "plt.hlines(y=.594, xmin=1, xmax=4, label=\"baseline\")\n",
    "plt.xticks(n_estimators, n_estimators)\n",
    "# plt.xlabel(\"n_estimators for XGBClassifier\")\n",
    "plt.xlabel(\"minimum_like_counts for relational data\")\n",
    "plt.ylabel(\"accuracy\")\n",
    "plt.title(\"Cross-validation (5-fold) curve for age task\")\n",
    "plt.legend()"
   ]
  },
  {
   "cell_type": "code",
   "execution_count": 62,
   "metadata": {},
   "outputs": [
    {
     "name": "stdout",
     "output_type": "stream",
     "text": [
      "7\n"
     ]
    }
   ],
   "source": []
  },
  {
   "cell_type": "code",
   "execution_count": null,
   "metadata": {},
   "outputs": [],
   "source": []
  }
 ],
 "metadata": {
  "kernelspec": {
   "display_name": "Python 3",
   "language": "python",
   "name": "python3"
  },
  "language_info": {
   "codemirror_mode": {
    "name": "ipython",
    "version": 3
   },
   "file_extension": ".py",
   "mimetype": "text/x-python",
   "name": "python",
   "nbconvert_exporter": "python",
   "pygments_lexer": "ipython3",
   "version": "3.7.3"
  }
 },
 "nbformat": 4,
 "nbformat_minor": 2
}
