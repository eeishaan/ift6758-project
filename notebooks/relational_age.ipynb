{
 "cells": [
  {
   "cell_type": "code",
   "execution_count": 179,
   "metadata": {},
   "outputs": [
    {
     "name": "stdout",
     "output_type": "stream",
     "text": [
      "The autoreload extension is already loaded. To reload it, use:\n",
      "  %reload_ext autoreload\n"
     ]
    }
   ],
   "source": [
    "%load_ext autoreload\n",
    "%autoreload 2\n",
    "\n",
    "import numpy as np\n",
    "import pandas as pd\n",
    "import os\n",
    "\n",
    "import sys\n",
    "sys.path.append(\"../ift6758/\")\n",
    "from utils.data_processing import parse_input\n",
    "\n",
    "DATA_PATH = \"../new_data/Train/\"\n",
    "X_ll, Y_all = parse_input(DATA_PATH)"
   ]
  },
  {
   "cell_type": "code",
   "execution_count": 180,
   "metadata": {},
   "outputs": [
    {
     "data": {
      "text/plain": [
       "(9500, 8)"
      ]
     },
     "execution_count": 180,
     "metadata": {},
     "output_type": "execute_result"
    }
   ],
   "source": [
    "Y_all.shape"
   ]
  },
  {
   "cell_type": "code",
   "execution_count": 168,
   "metadata": {},
   "outputs": [
    {
     "name": "stdout",
     "output_type": "stream",
     "text": [
      "relation_data.shape = (1671353, 3), relation_data.columns = Index(['Unnamed: 0', 'userid', 'like_id'], dtype='object')\n"
     ]
    }
   ],
   "source": [
    "relation_data = pd.read_csv(os.path.join(DATA_PATH, \"Relation\", \"Relation.csv\"))\n",
    "print(f\"relation_data.shape = {relation_data.shape}, relation_data.columns = {relation_data.columns}\")"
   ]
  },
  {
   "cell_type": "code",
   "execution_count": 169,
   "metadata": {},
   "outputs": [
    {
     "name": "stdout",
     "output_type": "stream",
     "text": [
      "unique user-ids: in profile =  9500, in relation = 9500\n",
      "for relation_data, unique like_ids = 536204\n"
     ]
    }
   ],
   "source": [
    "print(f\"unique user-ids: in profile =  {Y_all['userid'].nunique()}, \"\n",
    "      f\"in relation = {relation_data['userid'].nunique()}\")\n",
    "print(f\"for relation_data, unique like_ids = {relation_data['like_id'].nunique()}\")\n"
   ]
  },
  {
   "cell_type": "code",
   "execution_count": 170,
   "metadata": {},
   "outputs": [
    {
     "name": "stdout",
     "output_type": "stream",
     "text": [
      "num relation rows = pre-merge:1671353, post-merge:1671353\n"
     ]
    }
   ],
   "source": [
    "relation_data_merged = pd.merge(relation_data, Y_all, on='userid')\n",
    "print(f\"num relation rows = pre-merge:{relation_data.shape[0]}, post-merge:{relation_data_merged.shape[0]}\")"
   ]
  },
  {
   "cell_type": "code",
   "execution_count": 171,
   "metadata": {},
   "outputs": [
    {
     "data": {
      "text/html": [
       "<div>\n",
       "<style scoped>\n",
       "    .dataframe tbody tr th:only-of-type {\n",
       "        vertical-align: middle;\n",
       "    }\n",
       "\n",
       "    .dataframe tbody tr th {\n",
       "        vertical-align: top;\n",
       "    }\n",
       "\n",
       "    .dataframe thead th {\n",
       "        text-align: right;\n",
       "    }\n",
       "</style>\n",
       "<table border=\"1\" class=\"dataframe\">\n",
       "  <thead>\n",
       "    <tr style=\"text-align: right;\">\n",
       "      <th></th>\n",
       "      <th>Unnamed: 0</th>\n",
       "      <th>userid</th>\n",
       "      <th>like_id</th>\n",
       "      <th>age</th>\n",
       "      <th>gender</th>\n",
       "      <th>ope</th>\n",
       "      <th>con</th>\n",
       "      <th>ext</th>\n",
       "      <th>agr</th>\n",
       "      <th>neu</th>\n",
       "    </tr>\n",
       "  </thead>\n",
       "  <tbody>\n",
       "    <tr>\n",
       "      <th>0</th>\n",
       "      <td>0</td>\n",
       "      <td>c6a9a43058c8cc8398ca6e97324c0fae</td>\n",
       "      <td>8628204013</td>\n",
       "      <td>35-49</td>\n",
       "      <td>0.0</td>\n",
       "      <td>3.8</td>\n",
       "      <td>3.1</td>\n",
       "      <td>2.75</td>\n",
       "      <td>3.85</td>\n",
       "      <td>3.65</td>\n",
       "    </tr>\n",
       "    <tr>\n",
       "      <th>1</th>\n",
       "      <td>1</td>\n",
       "      <td>c6a9a43058c8cc8398ca6e97324c0fae</td>\n",
       "      <td>19040608370</td>\n",
       "      <td>35-49</td>\n",
       "      <td>0.0</td>\n",
       "      <td>3.8</td>\n",
       "      <td>3.1</td>\n",
       "      <td>2.75</td>\n",
       "      <td>3.85</td>\n",
       "      <td>3.65</td>\n",
       "    </tr>\n",
       "    <tr>\n",
       "      <th>2</th>\n",
       "      <td>2</td>\n",
       "      <td>c6a9a43058c8cc8398ca6e97324c0fae</td>\n",
       "      <td>24054583527</td>\n",
       "      <td>35-49</td>\n",
       "      <td>0.0</td>\n",
       "      <td>3.8</td>\n",
       "      <td>3.1</td>\n",
       "      <td>2.75</td>\n",
       "      <td>3.85</td>\n",
       "      <td>3.65</td>\n",
       "    </tr>\n",
       "    <tr>\n",
       "      <th>3</th>\n",
       "      <td>3</td>\n",
       "      <td>c6a9a43058c8cc8398ca6e97324c0fae</td>\n",
       "      <td>26726417043</td>\n",
       "      <td>35-49</td>\n",
       "      <td>0.0</td>\n",
       "      <td>3.8</td>\n",
       "      <td>3.1</td>\n",
       "      <td>2.75</td>\n",
       "      <td>3.85</td>\n",
       "      <td>3.65</td>\n",
       "    </tr>\n",
       "    <tr>\n",
       "      <th>4</th>\n",
       "      <td>4</td>\n",
       "      <td>c6a9a43058c8cc8398ca6e97324c0fae</td>\n",
       "      <td>31796936730</td>\n",
       "      <td>35-49</td>\n",
       "      <td>0.0</td>\n",
       "      <td>3.8</td>\n",
       "      <td>3.1</td>\n",
       "      <td>2.75</td>\n",
       "      <td>3.85</td>\n",
       "      <td>3.65</td>\n",
       "    </tr>\n",
       "  </tbody>\n",
       "</table>\n",
       "</div>"
      ],
      "text/plain": [
       "   Unnamed: 0                            userid      like_id    age  gender  \\\n",
       "0           0  c6a9a43058c8cc8398ca6e97324c0fae   8628204013  35-49     0.0   \n",
       "1           1  c6a9a43058c8cc8398ca6e97324c0fae  19040608370  35-49     0.0   \n",
       "2           2  c6a9a43058c8cc8398ca6e97324c0fae  24054583527  35-49     0.0   \n",
       "3           3  c6a9a43058c8cc8398ca6e97324c0fae  26726417043  35-49     0.0   \n",
       "4           4  c6a9a43058c8cc8398ca6e97324c0fae  31796936730  35-49     0.0   \n",
       "\n",
       "   ope  con   ext   agr   neu  \n",
       "0  3.8  3.1  2.75  3.85  3.65  \n",
       "1  3.8  3.1  2.75  3.85  3.65  \n",
       "2  3.8  3.1  2.75  3.85  3.65  \n",
       "3  3.8  3.1  2.75  3.85  3.65  \n",
       "4  3.8  3.1  2.75  3.85  3.65  "
      ]
     },
     "execution_count": 171,
     "metadata": {},
     "output_type": "execute_result"
    }
   ],
   "source": [
    "relation_data_merged.head()"
   ]
  },
  {
   "cell_type": "code",
   "execution_count": 172,
   "metadata": {},
   "outputs": [
    {
     "data": {
      "text/html": [
       "<div>\n",
       "<style scoped>\n",
       "    .dataframe tbody tr th:only-of-type {\n",
       "        vertical-align: middle;\n",
       "    }\n",
       "\n",
       "    .dataframe tbody tr th {\n",
       "        vertical-align: top;\n",
       "    }\n",
       "\n",
       "    .dataframe thead th {\n",
       "        text-align: right;\n",
       "    }\n",
       "</style>\n",
       "<table border=\"1\" class=\"dataframe\">\n",
       "  <thead>\n",
       "    <tr style=\"text-align: right;\">\n",
       "      <th></th>\n",
       "      <th>gender</th>\n",
       "    </tr>\n",
       "    <tr>\n",
       "      <th>like_id</th>\n",
       "      <th></th>\n",
       "    </tr>\n",
       "  </thead>\n",
       "  <tbody>\n",
       "    <tr>\n",
       "      <th>2215974432</th>\n",
       "      <td>0.333333</td>\n",
       "    </tr>\n",
       "    <tr>\n",
       "      <th>2219089314</th>\n",
       "      <td>0.709677</td>\n",
       "    </tr>\n",
       "    <tr>\n",
       "      <th>2219808235</th>\n",
       "      <td>0.846154</td>\n",
       "    </tr>\n",
       "    <tr>\n",
       "      <th>2231777543</th>\n",
       "      <td>0.512821</td>\n",
       "    </tr>\n",
       "    <tr>\n",
       "      <th>2232594215</th>\n",
       "      <td>1.000000</td>\n",
       "    </tr>\n",
       "  </tbody>\n",
       "</table>\n",
       "</div>"
      ],
      "text/plain": [
       "              gender\n",
       "like_id             \n",
       "2215974432  0.333333\n",
       "2219089314  0.709677\n",
       "2219808235  0.846154\n",
       "2231777543  0.512821\n",
       "2232594215  1.000000"
      ]
     },
     "execution_count": 172,
     "metadata": {},
     "output_type": "execute_result"
    }
   ],
   "source": [
    "relation_data_gender = relation_data_merged[['like_id', 'gender']].groupby('like_id').mean()\n",
    "relation_data_gender.head()"
   ]
  },
  {
   "cell_type": "code",
   "execution_count": 173,
   "metadata": {},
   "outputs": [
    {
     "data": {
      "text/html": [
       "<div>\n",
       "<style scoped>\n",
       "    .dataframe tbody tr th:only-of-type {\n",
       "        vertical-align: middle;\n",
       "    }\n",
       "\n",
       "    .dataframe tbody tr th {\n",
       "        vertical-align: top;\n",
       "    }\n",
       "\n",
       "    .dataframe thead th {\n",
       "        text-align: right;\n",
       "    }\n",
       "</style>\n",
       "<table border=\"1\" class=\"dataframe\">\n",
       "  <thead>\n",
       "    <tr style=\"text-align: right;\">\n",
       "      <th></th>\n",
       "      <th>like_id</th>\n",
       "      <th>age</th>\n",
       "    </tr>\n",
       "  </thead>\n",
       "  <tbody>\n",
       "    <tr>\n",
       "      <th>0</th>\n",
       "      <td>8628204013</td>\n",
       "      <td>35-49</td>\n",
       "    </tr>\n",
       "    <tr>\n",
       "      <th>1</th>\n",
       "      <td>19040608370</td>\n",
       "      <td>35-49</td>\n",
       "    </tr>\n",
       "    <tr>\n",
       "      <th>2</th>\n",
       "      <td>24054583527</td>\n",
       "      <td>35-49</td>\n",
       "    </tr>\n",
       "    <tr>\n",
       "      <th>3</th>\n",
       "      <td>26726417043</td>\n",
       "      <td>35-49</td>\n",
       "    </tr>\n",
       "    <tr>\n",
       "      <th>4</th>\n",
       "      <td>31796936730</td>\n",
       "      <td>35-49</td>\n",
       "    </tr>\n",
       "  </tbody>\n",
       "</table>\n",
       "</div>"
      ],
      "text/plain": [
       "       like_id    age\n",
       "0   8628204013  35-49\n",
       "1  19040608370  35-49\n",
       "2  24054583527  35-49\n",
       "3  26726417043  35-49\n",
       "4  31796936730  35-49"
      ]
     },
     "execution_count": 173,
     "metadata": {},
     "output_type": "execute_result"
    }
   ],
   "source": [
    "relation_data_age = relation_data_merged[['like_id', 'age']] #.groupby('like_id')\n",
    "relation_data_age.head()"
   ]
  },
  {
   "cell_type": "code",
   "execution_count": 174,
   "metadata": {},
   "outputs": [
    {
     "name": "stdout",
     "output_type": "stream",
     "text": [
      "unique LikeIds in relational_data_ptest = 37073\n",
      "unique LikeIds after merge with train-set = 37073\n"
     ]
    }
   ],
   "source": [
    "# verify that LikeIds are same in Train and PublicTest datasets\n",
    "relational_data_ptest = pd.read_csv(\"../new_data/Public_Test/Relation/Relation.csv\")\n",
    "print(f\"unique LikeIds in relational_data_ptest = {relational_data_ptest['like_id'].nunique()}\")\n",
    "relational_merge_train_ptest = pd.merge(relational_data_ptest['like_id'], relational_data_ptest['like_id'], on=\"like_id\")\n",
    "print(f\"unique LikeIds after merge with train-set = {relational_merge_train_ptest['like_id'].nunique()}\")\n"
   ]
  },
  {
   "cell_type": "code",
   "execution_count": 187,
   "metadata": {},
   "outputs": [],
   "source": [
    "from sklearn.metrics import accuracy_score\n",
    "from sklearn.ensemble import RandomForestClassifier, GradientBoostingClassifier\n",
    "from models.final_estimator import BaseEstimator\n",
    "from sklearn.preprocessing import StandardScaler\n",
    "from sklearn.pipeline import make_pipeline\n",
    "from sklearn.externals import joblib\n",
    "from utils.data_processing import parse_input\n",
    "\n",
    "class RelationalNaiveAgeClassifier(BaseEstimator):\n",
    "    def __init__(self, normalize=False):\n",
    "        super().__init__()\n",
    "        self.normalize=normalize\n",
    "        self.classes = [\"xx-24\", \"25-34\", \"35-49\", \"50-xx\"]\n",
    "        # self.relational_df = relational_df\n",
    "    \n",
    "    def fit(self, like_age):\n",
    "        self.like_ages_counts = like_age.groupby(['like_id', 'age']).size().unstack(fill_value=0)\n",
    "        \n",
    "    def predict(self, user_like):\n",
    "        user_like_ages_counts = pd.merge(user_like, self.like_ages_counts, on='like_id', how='left')\n",
    "        if self.normalize:\n",
    "            norm_ages_counts = user_like_ages_counts[self.classes].div(user_like_ages_counts[self.classes].sum(axis=1), axis=0)\n",
    "            user_like_ages_counts[self.classes] = norm_ages_counts\n",
    "        userid_grouped_df = user_like_ages_counts.groupby('userid').mean().reset_index()\n",
    "        userid_grouped_df['argmax_age'] = userid_grouped_df[self.classes].idxmax(axis=1)\n",
    "        return userid_grouped_df[['userid', 'argmax_age']].fillna(\"xx-24\")\n",
    "        \n",
    "\n",
    "class AgeClassifier(BaseEstimator):\n",
    "    def __init__(self, n_estimators=40):\n",
    "        super().__init__()\n",
    "        self.model = make_pipeline(StandardScaler(), GradientBoostingClassifier(n_estimators=n_estimators))\n",
    "    \n",
    "    def fit(self, X, y):\n",
    "#         X = X['text']\n",
    "        self.model.fit(X, y)\n",
    "\n",
    "    def predict(self, X):\n",
    "#         X = X['text']\n",
    "        return self.model.predict(X)\n",
    "\n",
    "def eval_model(model_cls, model_params, train_data, test_data):\n",
    "    model = model_cls(**model_params)\n",
    "\n",
    "    user_like_age_train, user_age_train = train_data[0], train_data[1]\n",
    "    user_like_train = user_like_age_train[['userid', 'like_id']]\n",
    "    user_like_age_test, user_age_test = test_data[0], test_data[1]\n",
    "    user_like_test = user_like_age_test[['userid', 'like_id']]\n",
    "    # fit model\n",
    "    model.fit(user_like_age_train)\n",
    "\n",
    "    # evaluate train perf\n",
    "    train_pred = model.predict(user_like_train)\n",
    "    print(f\"train_y.shape = {user_age_train.shape}, train_pred.shape = {train_pred.shape}\")\n",
    "    train_y_pred_merge = pd.merge(user_age_train, train_pred, on='userid')\n",
    "    train_acc = accuracy_score(train_y_pred_merge['age'], train_y_pred_merge['argmax_age'])\n",
    "\n",
    "    # test performance\n",
    "    test_pred = model.predict(user_like_test)\n",
    "    print(f\"test_y.size = {user_age_test.size}, test_pred.size = {test_pred.size}\")\n",
    "    test_y_pred_merge = pd.merge(user_age_test, test_pred, on='userid')\n",
    "    test_acc = accuracy_score(test_y_pred_merge['age'], test_y_pred_merge['argmax_age'])\n",
    "    \n",
    "    print(f\"train_acc = {train_acc}; test_acc = {test_acc}\\n\")\n",
    "    return {\n",
    "        'model': model,\n",
    "        'train_acc': train_acc,\n",
    "        'test_acc': test_acc\n",
    "    }\n"
   ]
  },
  {
   "cell_type": "code",
   "execution_count": 176,
   "metadata": {},
   "outputs": [
    {
     "name": "stdout",
     "output_type": "stream",
     "text": [
      "relation_data_age sample = \n",
      "       like_id    age\n",
      "0   8628204013  35-49\n",
      "1  19040608370  35-49\n",
      "2  24054583527  35-49\n",
      "3  26726417043  35-49\n",
      "4  31796936730  35-49\n",
      " num_rows = 1671353\n",
      "in rows = 334, out rows = 334\n",
      "  argmax_age  userid\n",
      "0      25-34      11\n",
      "1      35-49       1\n",
      "2      50-xx       2\n",
      "3      xx-24     320\n"
     ]
    },
    {
     "data": {
      "text/plain": [
       "<matplotlib.axes._subplots.AxesSubplot at 0x7fefc5d95518>"
      ]
     },
     "execution_count": 176,
     "metadata": {},
     "output_type": "execute_result"
    },
    {
     "data": {
      "image/png": "[encoded data removed]",
      "text/plain": [
       "<Figure size 432x288 with 1 Axes>"
      ]
     },
     "metadata": {
      "needs_background": "light"
     },
     "output_type": "display_data"
    }
   ],
   "source": [
    "clf = RelationalNaiveAgeClassifier(normalize=True)\n",
    "print(f\"relation_data_age sample = \\n{relation_data_age[:5]}\\n num_rows = {relation_data_age.shape[0]}\")\n",
    "clf.fit(relation_data_age)\n",
    "clf.like_ages_counts.head()\n",
    "\n",
    "ptest_result = clf.predict(relational_data_ptest)\n",
    "print(f\"in rows = {relational_data_ptest['userid'].nunique()}, out rows = {ptest_result.shape[0]}\")\n",
    "print(ptest_result.groupby('argmax_age').count().reset_index())\n",
    "\n",
    "import seaborn as sns\n",
    "label_map = {'xx-24':0, '25-34':1, '35-49':2, '50-xx':3}\n",
    "sns.distplot(ptest_result['argmax_age'].apply(lambda x: label_map[x]))"
   ]
  },
  {
   "cell_type": "code",
   "execution_count": 177,
   "metadata": {},
   "outputs": [
    {
     "data": {
      "text/plain": [
       "(9500, 8)"
      ]
     },
     "execution_count": 177,
     "metadata": {},
     "output_type": "execute_result"
    }
   ],
   "source": [
    "Y_all.shape"
   ]
  },
  {
   "cell_type": "code",
   "execution_count": 186,
   "metadata": {},
   "outputs": [
    {
     "name": "stderr",
     "output_type": "stream",
     "text": [
      "\r",
      "0it [00:00, ?it/s]"
     ]
    },
    {
     "name": "stdout",
     "output_type": "stream",
     "text": [
      "y_age.shape = (9500, 2), like_age.shape = (1671353, 4)\n",
      "\n",
      "y_age.columns = Index(['userid', 'age'], dtype='object'), like_age.columns = Index(['Unnamed: 0', 'userid', 'like_id', 'age'], dtype='object')\n",
      "\n",
      "                             userid    age\n",
      "0  7267f43c71fcf53f4580fd3cd808bd48  25-34\n",
      "1  e1cdac10d136e76e064e4860007d786d  xx-24\n",
      "2  ea4b8b534a35f59713f61f29b8725d09  25-34\n",
      "*** (7600, 2), (1900, 2) ***\n",
      "train_y.size = 15200, train_pred.size = 15200\n"
     ]
    },
    {
     "name": "stderr",
     "output_type": "stream",
     "text": [
      "\r",
      "1it [00:02,  2.28s/it]"
     ]
    },
    {
     "name": "stdout",
     "output_type": "stream",
     "text": [
      "test_y.size = 3800, test_pred.size = 3800\n",
      "train_acc = 0.905921052631579; test_acc = 0.49842105263157893\n",
      "\n",
      "*** (7600, 2), (1900, 2) ***\n",
      "train_y.size = 15200, train_pred.size = 15200\n"
     ]
    },
    {
     "name": "stderr",
     "output_type": "stream",
     "text": [
      "\r",
      "2it [00:04,  2.19s/it]"
     ]
    },
    {
     "name": "stdout",
     "output_type": "stream",
     "text": [
      "test_y.size = 3800, test_pred.size = 3800\n",
      "train_acc = 0.9178947368421052; test_acc = 0.61\n",
      "\n",
      "*** (7600, 2), (1900, 2) ***\n",
      "train_y.size = 15200, train_pred.size = 15200\n"
     ]
    },
    {
     "name": "stderr",
     "output_type": "stream",
     "text": [
      "\r",
      "3it [00:06,  2.16s/it]"
     ]
    },
    {
     "name": "stdout",
     "output_type": "stream",
     "text": [
      "test_y.size = 3800, test_pred.size = 3800\n",
      "train_acc = 0.9176315789473685; test_acc = 0.58\n",
      "\n",
      "*** (7600, 2), (1900, 2) ***\n",
      "train_y.size = 15200, train_pred.size = 15200\n"
     ]
    },
    {
     "name": "stderr",
     "output_type": "stream",
     "text": [
      "\r",
      "4it [00:08,  2.15s/it]"
     ]
    },
    {
     "name": "stdout",
     "output_type": "stream",
     "text": [
      "test_y.size = 3800, test_pred.size = 3800\n",
      "train_acc = 0.9153947368421053; test_acc = 0.6042105263157894\n",
      "\n",
      "*** (7600, 2), (1900, 2) ***\n",
      "train_y.size = 15200, train_pred.size = 15200\n"
     ]
    },
    {
     "name": "stderr",
     "output_type": "stream",
     "text": [
      "\r",
      "5it [00:10,  2.06s/it]"
     ]
    },
    {
     "name": "stdout",
     "output_type": "stream",
     "text": [
      "test_y.size = 3800, test_pred.size = 3800\n",
      "train_acc = 0.9422368421052632; test_acc = 0.7363157894736843\n",
      "\n",
      "stats = [[0.905921052631579, 0.49842105263157893], [0.9178947368421052, 0.61], [0.9176315789473685, 0.58], [0.9153947368421053, 0.6042105263157894], [0.9422368421052632, 0.7363157894736843]]\n",
      "Method: RelationalNaiveAgeClassifier_True Train Acc 0.9198157894736841+-0.012031410875098117 Test Acc 0.6057894736842104+-0.07648583595995456\n"
     ]
    },
    {
     "name": "stderr",
     "output_type": "stream",
     "text": [
      "\n"
     ]
    }
   ],
   "source": [
    "from tqdm import tqdm\n",
    "\n",
    "# print(X_all.keys())\n",
    "# print(Y_all.keys())\n",
    "\n",
    "X_relation = relation_data\n",
    "y_age = Y_all[['userid', 'age']]\n",
    "user_like_age = pd.merge(X_relation, y_age, on='userid')\n",
    "print(f'y_age.shape = {y_age.shape}, like_age.shape = {like_age.shape}\\n')\n",
    "print(f'y_age.columns = {y_age.columns}, like_age.columns = {like_age.columns}\\n')\n",
    "\n",
    "from sklearn.model_selection import KFold\n",
    "kf = KFold(n_splits=5)\n",
    "\n",
    "methods = [RelationalNaiveAgeClassifier]\n",
    "method_params = [{'normalize': True}]\n",
    "\n",
    "print(pd.DataFrame(np.array(y_age), columns=['userid', 'age'])[:3])\n",
    "\n",
    "method_stats = {}\n",
    "for train_index, test_index in tqdm(kf.split(y_age)):\n",
    "    y_train = pd.DataFrame(np.array(y_age)[train_index], columns=['userid', 'age'])\n",
    "    y_test = pd.DataFrame(np.array(y_age)[test_index], columns=['userid', 'age'])\n",
    "    X_train = user_like_age[user_like_age.userid.isin(y_train.userid)]\n",
    "    X_test = user_like_age[user_like_age.userid.isin(y_test.userid)]\n",
    "\n",
    "    train_data = (X_train, y_train)\n",
    "    test_data = (X_test, y_test)\n",
    "    for m, m_params in zip(methods, method_params):\n",
    "        ret = eval_model(m, m_params, train_data, test_data)\n",
    "        m_name = f\"{m.__name__}_{m_params['normalize']}\"\n",
    "        if m_name not in method_stats:\n",
    "            method_stats[m_name] = []\n",
    "        method_stats[m_name].append([ret['train_acc'], ret['test_acc']])\n",
    "for m_name, stats in method_stats.items():\n",
    "    print(f\"stats = {stats}\")\n",
    "    stats = np.array(stats)\n",
    "    mean = np.mean(stats, axis=0)\n",
    "    std = np.std(stats, axis=0)\n",
    "    print(f'Method: {m_name} Train Acc {mean[0]}+-{std[0]} Test Acc {mean[1]}+-{std[1]}')"
   ]
  },
  {
   "cell_type": "code",
   "execution_count": 185,
   "metadata": {},
   "outputs": [
    {
     "name": "stdout",
     "output_type": "stream",
     "text": [
      "7600 1900\n",
      "7600 1900\n",
      "7600 1900\n",
      "7600 1900\n",
      "7600 1900\n"
     ]
    }
   ],
   "source": []
  }
 ],
 "metadata": {
  "kernelspec": {
   "display_name": "Python 3",
   "language": "python",
   "name": "python3"
  },
  "language_info": {
   "codemirror_mode": {
    "name": "ipython",
    "version": 3
   },
   "file_extension": ".py",
   "mimetype": "text/x-python",
   "name": "python",
   "nbconvert_exporter": "python",
   "pygments_lexer": "ipython3",
   "version": "3.7.3"
  }
 },
 "nbformat": 4,
 "nbformat_minor": 2
}
